{
 "cells": [
  {
   "cell_type": "markdown",
   "id": "66349ba1",
   "metadata": {},
   "source": [
    "# 9.6 Classroom Exercises"
   ]
  },
  {
   "cell_type": "markdown",
   "id": "d3a33fe5",
   "metadata": {},
   "source": [
    "**List of exercises**\n",
    "\n",
    "\n",
    "[9a - Timing](#Exercise-9a-Timing) \n",
    "\n",
    "[9b -  Multiplication vs. power](#Exercise-9b-Multiplication-vs.-power) \n",
    "\n",
    "[9c - Binary Mandelbrot](#Exercise-9c-Binary-Mandelbrot) \n",
    "\n",
    "[9d - Parallelisation with Multiprocessing](#Exercise-9d-Parallelisation-with-Multiprocessing)\n",
    "\n",
    "[9e - Performance Scaling](#Exercise-9e-Performance-Scaling)"
   ]
  },
  {
   "cell_type": "markdown",
   "id": "0f49b1ee",
   "metadata": {},
   "source": [
    "## Exercise 9a Timing\n",
    "\n",
    "*Relevant sections: 9.0.1 - 9.0.4*\n",
    "\n",
    "Which is faster\n",
    "\n",
    "```python\n",
    "complex(a,b)\n",
    "```\n",
    "\n",
    "or \n",
    "\n",
    "```python\n",
    "a + b*1j\n",
    "```\n",
    "with a = 5 and b = 6?"
   ]
  },
  {
   "cell_type": "markdown",
   "id": "0b4f5fe9",
   "metadata": {},
   "source": [
    "## Exercise 9b Multiplication vs. power\n",
    "\n",
    "*Relevant sections: 9.1.1, 9.1.2.*\n",
    "\n",
    "- Write another function that does the same, but squares a value by multiplying it with itself.\n",
    "- Compare the performance of the two functions. Which one is faster?"
   ]
  },
  {
   "cell_type": "markdown",
   "id": "dfa068ff",
   "metadata": {},
   "source": [
    "## Exercise 9c Binary Mandelbrot\n",
    "\n",
    "*Relevant sections: 9.2.1, 9.2.2*\n",
    "\n",
    "Can you use this techinque to stop our values going to infinity? \n",
    "- Modify the function accordingly using the hint below.\n",
    "- Time the performance of the modified function.\n",
    "- Plot the result.\n",
    "\n",
    "**Hint:** Look at what this code is doing.\n",
    "```python\n",
    "a = np.linspace(1,10,10)\n",
    "b = a > 5\n",
    "a[b] = 5\n",
    "a\n",
    "```"
   ]
  },
  {
   "cell_type": "markdown",
   "id": "02e6ae4d",
   "metadata": {},
   "source": [
    "## Exercise 9d Parallelisation with Multiprocessing\n",
    "\n",
    "*Relevant sections: 9.4.1, 9.4.2*\n",
    "\n",
    "- Remove the call to `sleep()`\n",
    "- Reload the `sleeping` module \n",
    "- Run the `list(map(...))` vs `pool.map(...)` comparison again\n",
    "\n",
    "Which is faster, and by how much? Why?"
   ]
  },
  {
   "cell_type": "markdown",
   "id": "59d8aacd",
   "metadata": {},
   "source": [
    "## Exercise 9e Performance Scaling\n",
    "\n",
    "*Relevant sections: Notebook 9.5*\n",
    "\n",
    "In a previous notebook, we found that doing `a * a` was quicker than `a ** 2`. Is this true for all exponents, even very large ones?\n",
    "If not, at what point do they cross over?\n",
    "Can you plot it?"
   ]
  },
  {
   "cell_type": "code",
   "execution_count": 1,
   "id": "165ba256",
   "metadata": {},
   "outputs": [],
   "source": [
    "def time_pow_multiply(power):\n",
    "\n",
    "    the_string = \"2\"\n",
    "\n",
    "    for _ in range(power - 1):\n",
    "        # ToDo Complete this loop\n",
    "        pass\n",
    "\n",
    "    return repeat(the_string, number=100)"
   ]
  },
  {
   "cell_type": "code",
   "execution_count": 2,
   "id": "528fe32c",
   "metadata": {},
   "outputs": [],
   "source": [
    "def time_pow_expo(power):\n",
    "\n",
    "    # ToDo Complete this string\n",
    "    the_string = \"\"\n",
    "\n",
    "    return repeat(the_string, number=100)"
   ]
  }
 ],
 "metadata": {
  "kernelspec": {
   "display_name": "Python 3 (ipykernel)",
   "language": "python",
   "name": "python3"
  },
  "language_info": {
   "codemirror_mode": {
    "name": "ipython",
    "version": 3
   },
   "file_extension": ".py",
   "mimetype": "text/x-python",
   "name": "python",
   "nbconvert_exporter": "python",
   "pygments_lexer": "ipython3",
   "version": "3.9.7"
  }
 },
 "nbformat": 4,
 "nbformat_minor": 5
}
