{
 "cells": [
  {
   "cell_type": "markdown",
   "metadata": {},
   "source": [
    "# 9.1 Optimising with pure Python"
   ]
  },
  {
   "cell_type": "markdown",
   "metadata": {},
   "source": [
    "*Estimated time for this notebook: 5 minutes*"
   ]
  },
  {
   "cell_type": "markdown",
   "metadata": {},
   "source": [
    "First, we look at changes we can make to our function that don't rely on any external libraries or tools.\n",
    "\n",
    "We start by copying our `mandel()` function into this notebook and producing a list of input values for the function."
   ]
  },
  {
   "cell_type": "code",
   "execution_count": 1,
   "metadata": {},
   "outputs": [],
   "source": [
    "def mandel(constant, max_iterations=50):\n",
    "    \"\"\"Computes the values of the series for up to a maximum number of iterations.\n",
    "\n",
    "    The function stops when the absolute value of the series surpasses 2 or when it reaches the maximum\n",
    "    number of iterations.\n",
    "\n",
    "    Returns the number of iterations.\n",
    "    \"\"\"\n",
    "\n",
    "    value = 0\n",
    "\n",
    "    counter = 0\n",
    "    while counter < max_iterations:\n",
    "        if abs(value) > 2:\n",
    "            break\n",
    "\n",
    "        value = (value**2) + constant\n",
    "\n",
    "        counter = counter + 1\n",
    "\n",
    "    return counter\n",
    "\n",
    "\n",
    "assert mandel(0) == 50\n",
    "assert mandel(3) == 1\n",
    "assert mandel(0.5) == 5"
   ]
  },
  {
   "cell_type": "code",
   "execution_count": 2,
   "metadata": {},
   "outputs": [],
   "source": [
    "xmin = -1.5\n",
    "ymin = -1.0\n",
    "xmax = 0.5\n",
    "ymax = 1.0\n",
    "resolution = 300\n",
    "xstep = (xmax - xmin) / resolution\n",
    "ystep = (ymax - ymin) / resolution\n",
    "xs = [(xmin + xstep * i) for i in range(resolution)]\n",
    "ys = [(ymin + ystep * i) for i in range(resolution)]"
   ]
  },
  {
   "cell_type": "markdown",
   "metadata": {},
   "source": [
    "## 9.1.1 Attempt 1: For-loop vs. list comprehension\n",
    "\n",
    "We want to run our `mandel` function on a range of complex input values. We can do that by either looping over all the values in the (nested) list, or by using a list comprehension as we did in the previous notebook. We know that list comprehensions are supposed to be more \"pythonic\", but are they also faster? Let's find out!"
   ]
  },
  {
   "cell_type": "code",
   "execution_count": 3,
   "metadata": {},
   "outputs": [],
   "source": [
    "def listcomp_mandel(xs, ys):\n",
    "    return [[mandel(x + 1j * y) for x in xs] for y in ys]"
   ]
  },
  {
   "cell_type": "code",
   "execution_count": 4,
   "metadata": {},
   "outputs": [],
   "source": [
    "def for_loop_mandel(xs, ys):\n",
    "    result = []\n",
    "\n",
    "    for y in ys:\n",
    "        result_inner = []\n",
    "        for x in xs:\n",
    "            result_inner.append(mandel(x + 1j * y))\n",
    "        result.append(result_inner)\n",
    "    return result\n",
    "\n",
    "\n",
    "assert for_loop_mandel([1], [0]) == [[3]]"
   ]
  },
  {
   "cell_type": "code",
   "execution_count": 5,
   "metadata": {},
   "outputs": [
    {
     "name": "stdout",
     "output_type": "stream",
     "text": [
      "432 ms ± 9.38 ms per loop (mean ± std. dev. of 7 runs, 1 loop each)\n"
     ]
    }
   ],
   "source": [
    "%%timeit\n",
    "listcomp_mandel(xs, ys)"
   ]
  },
  {
   "cell_type": "code",
   "execution_count": 6,
   "metadata": {},
   "outputs": [
    {
     "name": "stdout",
     "output_type": "stream",
     "text": [
      "438 ms ± 6.66 ms per loop (mean ± std. dev. of 7 runs, 1 loop each)\n"
     ]
    }
   ],
   "source": [
    "%%timeit\n",
    "for_loop_mandel(xs, ys)"
   ]
  },
  {
   "cell_type": "markdown",
   "metadata": {},
   "source": [
    "The results are very close. A bit disappointing, but at least the list comprehensions look more elegant."
   ]
  },
  {
   "cell_type": "markdown",
   "metadata": {},
   "source": [
    "## 9.1.2 Profiling\n",
    "\n",
    "It looks like we don't gain much by changing the way we call the function. Maybe we should instead focus on the function itself. \n",
    "There are useful tools out there that we can use to gain more insight into which part of a function takes up most computation time. In this module we use `line_profiler`.\n",
    "\n",
    "`line_profiler` is a Python module that we need to install into our virtual environment before we can use it.\n",
    "This tool breaks down the computation time of our function line by line. "
   ]
  },
  {
   "cell_type": "code",
   "execution_count": 7,
   "metadata": {},
   "outputs": [
    {
     "name": "stdout",
     "output_type": "stream",
     "text": [
      "Requirement already satisfied: line_profiler in /Users/pwochner/Projects/rse-course-2022/rse-course/.venv/lib/python3.7/site-packages (3.5.1)\n",
      "\n",
      "\u001b[1m[\u001b[0m\u001b[34;49mnotice\u001b[0m\u001b[1;39;49m]\u001b[0m\u001b[39;49m A new release of pip available: \u001b[0m\u001b[31;49m22.3\u001b[0m\u001b[39;49m -> \u001b[0m\u001b[32;49m22.3.1\u001b[0m\n",
      "\u001b[1m[\u001b[0m\u001b[34;49mnotice\u001b[0m\u001b[1;39;49m]\u001b[0m\u001b[39;49m To update, run: \u001b[0m\u001b[32;49mpip install --upgrade pip\u001b[0m\n"
     ]
    }
   ],
   "source": [
    "# you can also run this in your terminal (without the '!')\n",
    "!pip install line_profiler"
   ]
  },
  {
   "cell_type": "code",
   "execution_count": 8,
   "metadata": {},
   "outputs": [],
   "source": [
    "%load_ext line_profiler"
   ]
  },
  {
   "cell_type": "code",
   "execution_count": 9,
   "metadata": {},
   "outputs": [],
   "source": [
    "%lprun?"
   ]
  },
  {
   "cell_type": "code",
   "execution_count": 10,
   "metadata": {},
   "outputs": [],
   "source": [
    "%lprun -f mandel mandel(xs[0] + 1j*ys[0])"
   ]
  },
  {
   "cell_type": "markdown",
   "metadata": {},
   "source": [
    "## 9.1.3 Attempt 2: Multiplication vs. power\n",
    "\n",
    "Looking at the `line_profiler` output, it seems like the line where we compute the value of the series for the current iteration takes quite long. The operations that are performed are squaring the value (using power 2) and adding a constant. Maybe we can speed up the code by replacing the power operation by multiplying the value with itself. \n",
    "\n",
    "Before we re-write the `mandel()` function, we will write new functions that repeatedly squares a value for a given number of iterations."
   ]
  },
  {
   "cell_type": "code",
   "execution_count": 11,
   "metadata": {},
   "outputs": [],
   "source": [
    "def square_power(value, iterations):\n",
    "    \"\"\"Repeatedly square a value using **.\"\"\"\n",
    "\n",
    "    for _ in range(iterations):\n",
    "        value = value**2\n",
    "\n",
    "    return value\n",
    "\n",
    "\n",
    "assert square_power(2, 1) == 4\n",
    "assert square_power(2, 0) == 2"
   ]
  },
  {
   "cell_type": "markdown",
   "metadata": {},
   "source": [
    "Go to notebook **9.6 Classroom Exercises** and do exercise 9b. "
   ]
  },
  {
   "cell_type": "markdown",
   "metadata": {},
   "source": [
    " ...\n",
    " \n",
    "\n",
    " ...\n",
    " \n",
    " \n",
    " ...\n",
    " \n",
    " ...\n",
    " \n",
    "\n",
    " ...\n",
    " \n",
    " \n",
    " ..."
   ]
  },
  {
   "cell_type": "markdown",
   "metadata": {},
   "source": [
    "We now have another function to square a value, this time by multiplying the value with itself. This function could look like this."
   ]
  },
  {
   "cell_type": "code",
   "execution_count": 12,
   "metadata": {},
   "outputs": [],
   "source": [
    "def square_multiply(value, iterations):\n",
    "    \"\"\"Repeatedly square a value using *.\"\"\"\n",
    "\n",
    "    for _ in range(iterations):\n",
    "        value = value * value\n",
    "\n",
    "    return value\n",
    "\n",
    "\n",
    "assert square_multiply(2, 1) == 4\n",
    "assert square_multiply(2, 0) == 2"
   ]
  },
  {
   "cell_type": "markdown",
   "metadata": {},
   "source": [
    "The computational cost for `square_power` and `square_multiply` are quite different. \n",
    "Conclusion: `**` is not simply a wrapper around `*`.\n",
    "\n",
    "Can we find out more about this?\n",
    "\n",
    "The `dis` module supports analysis of CPython code by disassembling it."
   ]
  },
  {
   "cell_type": "code",
   "execution_count": 13,
   "metadata": {},
   "outputs": [],
   "source": [
    "import dis"
   ]
  },
  {
   "cell_type": "code",
   "execution_count": 14,
   "metadata": {},
   "outputs": [
    {
     "name": "stdout",
     "output_type": "stream",
     "text": [
      "  4           0 SETUP_LOOP              24 (to 26)\n",
      "              2 LOAD_GLOBAL              0 (range)\n",
      "              4 LOAD_FAST                1 (iterations)\n",
      "              6 CALL_FUNCTION            1\n",
      "              8 GET_ITER\n",
      "        >>   10 FOR_ITER                12 (to 24)\n",
      "             12 STORE_FAST               2 (_)\n",
      "\n",
      "  5          14 LOAD_FAST                0 (value)\n",
      "             16 LOAD_CONST               1 (2)\n",
      "             18 BINARY_POWER\n",
      "             20 STORE_FAST               0 (value)\n",
      "             22 JUMP_ABSOLUTE           10\n",
      "        >>   24 POP_BLOCK\n",
      "\n",
      "  7     >>   26 LOAD_FAST                0 (value)\n",
      "             28 RETURN_VALUE\n"
     ]
    }
   ],
   "source": [
    "dis.dis(square_power)"
   ]
  },
  {
   "cell_type": "code",
   "execution_count": 15,
   "metadata": {},
   "outputs": [
    {
     "name": "stdout",
     "output_type": "stream",
     "text": [
      "  4           0 SETUP_LOOP              24 (to 26)\n",
      "              2 LOAD_GLOBAL              0 (range)\n",
      "              4 LOAD_FAST                1 (iterations)\n",
      "              6 CALL_FUNCTION            1\n",
      "              8 GET_ITER\n",
      "        >>   10 FOR_ITER                12 (to 24)\n",
      "             12 STORE_FAST               2 (_)\n",
      "\n",
      "  5          14 LOAD_FAST                0 (value)\n",
      "             16 LOAD_FAST                0 (value)\n",
      "             18 BINARY_MULTIPLY\n",
      "             20 STORE_FAST               0 (value)\n",
      "             22 JUMP_ABSOLUTE           10\n",
      "        >>   24 POP_BLOCK\n",
      "\n",
      "  7     >>   26 LOAD_FAST                0 (value)\n",
      "             28 RETURN_VALUE\n"
     ]
    }
   ],
   "source": [
    "dis.dis(square_multiply)"
   ]
  },
  {
   "cell_type": "markdown",
   "metadata": {},
   "source": [
    "We can see that the two methods of squaring are translated into different bite code. The Python interpreter is not optimising (whereas a compiler in a compiled language might be able to do that)."
   ]
  },
  {
   "cell_type": "markdown",
   "metadata": {},
   "source": [
    "## 9.1.4 Attempt 3: In-place multiplication\n",
    "\n",
    "Python has an operator for inplace multiplication: `*=`. Is that faster?"
   ]
  },
  {
   "cell_type": "code",
   "execution_count": 16,
   "metadata": {},
   "outputs": [],
   "source": [
    "def square_inplace_multiply(value, iterations):\n",
    "    \"\"\"Repeatedly square a value using *.\"\"\"\n",
    "\n",
    "    for _ in range(iterations):\n",
    "        value *= value\n",
    "\n",
    "    return value\n",
    "\n",
    "\n",
    "assert square_multiply(2, 1) == 4\n",
    "assert square_multiply(2, 0) == 2"
   ]
  },
  {
   "cell_type": "code",
   "execution_count": 17,
   "metadata": {},
   "outputs": [
    {
     "name": "stdout",
     "output_type": "stream",
     "text": [
      "553 ns ± 18.9 ns per loop (mean ± std. dev. of 7 runs, 1000000 loops each)\n"
     ]
    }
   ],
   "source": [
    "%%timeit\n",
    "square_inplace_multiply(1.9, 10)"
   ]
  },
  {
   "cell_type": "markdown",
   "metadata": {},
   "source": [
    "This is the slowest way of squaring a value that we've tried."
   ]
  },
  {
   "cell_type": "code",
   "execution_count": 18,
   "metadata": {},
   "outputs": [
    {
     "name": "stdout",
     "output_type": "stream",
     "text": [
      "  4           0 SETUP_LOOP              24 (to 26)\n",
      "              2 LOAD_GLOBAL              0 (range)\n",
      "              4 LOAD_FAST                1 (iterations)\n",
      "              6 CALL_FUNCTION            1\n",
      "              8 GET_ITER\n",
      "        >>   10 FOR_ITER                12 (to 24)\n",
      "             12 STORE_FAST               2 (_)\n",
      "\n",
      "  5          14 LOAD_FAST                0 (value)\n",
      "             16 LOAD_FAST                0 (value)\n",
      "             18 INPLACE_MULTIPLY\n",
      "             20 STORE_FAST               0 (value)\n",
      "             22 JUMP_ABSOLUTE           10\n",
      "        >>   24 POP_BLOCK\n",
      "\n",
      "  7     >>   26 LOAD_FAST                0 (value)\n",
      "             28 RETURN_VALUE\n"
     ]
    }
   ],
   "source": [
    "dis.dis(square_inplace_multiply)"
   ]
  },
  {
   "cell_type": "markdown",
   "metadata": {},
   "source": [
    "## 9.1.4 Rewrite Mandelbrot: \"square-by-multiply\"\n",
    "\n",
    "Let's rewrite the `mandel()` function and time its performance, using what we've learnt in this notebook:\n",
    "- Square the value by multiplication with itself (but not inplace).\n",
    "- Run the function over a range of values by using list comprehension (instead of for-loop)."
   ]
  },
  {
   "cell_type": "code",
   "execution_count": 19,
   "metadata": {},
   "outputs": [],
   "source": [
    "def mandel(constant, max_iterations=50):\n",
    "    \"\"\"Computes the values of the series for up to a maximum number of iterations.\n",
    "\n",
    "    The function stops when the absolute value of the series surpasses 2 or when it reaches the maximum\n",
    "    number of iterations.\n",
    "\n",
    "    Returns the number of iterations.\n",
    "    \"\"\"\n",
    "\n",
    "    value = 0\n",
    "\n",
    "    counter = 0\n",
    "    while counter < max_iterations:\n",
    "        if abs(value) > 2:\n",
    "            break\n",
    "\n",
    "        value = (value * value) + constant\n",
    "\n",
    "        counter = counter + 1\n",
    "\n",
    "    return counter\n",
    "\n",
    "\n",
    "assert mandel(0) == 50\n",
    "assert mandel(3) == 1\n",
    "assert mandel(0.5) == 5"
   ]
  },
  {
   "cell_type": "code",
   "execution_count": 20,
   "metadata": {},
   "outputs": [
    {
     "name": "stdout",
     "output_type": "stream",
     "text": [
      "385 ms ± 6.21 ms per loop (mean ± std. dev. of 7 runs, 1 loop each)\n"
     ]
    }
   ],
   "source": [
    "%%timeit\n",
    "[[mandel(x + 1j * y) for x in xs] for y in ys]"
   ]
  },
  {
   "cell_type": "markdown",
   "metadata": {},
   "source": [
    "## Things to be aware of\n",
    "\n",
    "- Try to understand _why_ one method is faster than the other.\n",
    "- Is it worth the speed up? \n",
    "- Do you get the same answers for all possible inputs?\n",
    "- We're using CPython. Would the optimisations still hold for other implementations of Python?\n"
   ]
  }
 ],
 "metadata": {
  "jekyll": {
   "display_name": "Faster Mandelbrots?"
  },
  "kernelspec": {
   "display_name": "Python 3 (ipykernel)",
   "language": "python",
   "name": "python3"
  },
  "language_info": {
   "codemirror_mode": {
    "name": "ipython",
    "version": 3
   },
   "file_extension": ".py",
   "mimetype": "text/x-python",
   "name": "python",
   "nbconvert_exporter": "python",
   "pygments_lexer": "ipython3",
   "version": "3.7.13"
  }
 },
 "nbformat": 4,
 "nbformat_minor": 4
}
