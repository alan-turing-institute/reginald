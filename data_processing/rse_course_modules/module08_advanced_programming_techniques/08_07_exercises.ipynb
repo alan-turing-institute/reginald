{
 "cells": [
  {
   "cell_type": "markdown",
   "metadata": {},
   "source": [
    "# 8.7 Exercises"
   ]
  },
  {
   "cell_type": "markdown",
   "metadata": {},
   "source": [
    "### Exercise 1: Iterators and generators"
   ]
  },
  {
   "cell_type": "markdown",
   "metadata": {},
   "source": [
    "Write your own version of the `range` iterator. If we call it `range2`, then `range2(10)` should return an iterator such that repeatedly calling `next` on it yields the numbers from 0 to 9, and then terminates. Do this both\n",
    "1. as a class with `__iter__` and `__next__` methods.\n",
    "2. as a generator, using the `yield` statement."
   ]
  },
  {
   "cell_type": "markdown",
   "metadata": {},
   "source": [
    "### Exercise 2: Operator overloading"
   ]
  },
  {
   "cell_type": "markdown",
   "metadata": {},
   "source": [
    "Often in research code, we might want to construct a data \"pipeline\", where different bits of code perform different operations on our data.   For example, there might be a \"Data Loader\" module, a \"Data Cleaner\" module, one or more \"Data Processor\" modules, and a \"Data Output\" module.\n",
    "\n",
    "We could potentially use Operator Overloading to compose this pipeline.  In particular, the `__iadd__` function will overload `+=`, so we could for example do:\n",
    "\n",
    "```\n",
    "mypipeline = Pipeline()\n",
    "mypipeline += DataLoader()\n",
    "mypipeline += DataCleaner()\n",
    "```\n",
    "\n",
    "Here are some basic classes we could use:"
   ]
  },
  {
   "cell_type": "code",
   "execution_count": null,
   "metadata": {},
   "outputs": [],
   "source": [
    "class Pipeline:\n",
    "    def __init__(self):\n",
    "        self.modules = []\n",
    "\n",
    "    def process(self):\n",
    "        print(\"I'm a pipeline, don't do anything much by myself\")\n",
    "        for module in self.modules:\n",
    "            module.process()"
   ]
  },
  {
   "cell_type": "code",
   "execution_count": null,
   "metadata": {},
   "outputs": [],
   "source": [
    "class DataLoader:\n",
    "    def __init__(self):\n",
    "        pass\n",
    "\n",
    "    def process(self):\n",
    "        print(\"I am loading some data\")\n",
    "\n",
    "\n",
    "class DataCleaner:\n",
    "    def __init__(self):\n",
    "        pass\n",
    "\n",
    "    def process(self):\n",
    "        print(\"I am cleaning some data\")"
   ]
  },
  {
   "cell_type": "markdown",
   "metadata": {},
   "source": [
    "Have a go at overloading the '+=' operator such that we can add modules to the pipeline, and the following code would work:"
   ]
  },
  {
   "cell_type": "code",
   "execution_count": null,
   "metadata": {},
   "outputs": [],
   "source": [
    "p = Pipeline()\n",
    "p += DataLoader()\n",
    "p += DataCleaner()\n",
    "p.process()"
   ]
  }
 ],
 "metadata": {
  "jekyll": {
   "display_name": "Operator Overloading (example)"
  },
  "kernelspec": {
   "display_name": "Python 3 (ipykernel)",
   "language": "python",
   "name": "python3"
  },
  "language_info": {
   "codemirror_mode": {
    "name": "ipython",
    "version": 3
   },
   "file_extension": ".py",
   "mimetype": "text/x-python",
   "name": "python",
   "nbconvert_exporter": "python",
   "pygments_lexer": "ipython3",
   "version": "3.8.13"
  }
 },
 "nbformat": 4,
 "nbformat_minor": 1
}
