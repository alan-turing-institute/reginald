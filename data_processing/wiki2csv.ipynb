{
 "cells": [
  {
   "attachments": {},
   "cell_type": "markdown",
   "metadata": {},
   "source": [
    "Preprocess wiki markdown into format expected by the RAG model.\n",
    "\n",
    "The format is a csv file with titles in the first column and document contents in the second column."
   ]
  },
  {
   "cell_type": "code",
   "execution_count": 7,
   "metadata": {},
   "outputs": [
    {
     "data": {
      "text/plain": [
       "['Remote-Working.md',\n",
       " 'Buddy-Sign-up-and-Matches.md',\n",
       " 'Writing-a-paper.md',\n",
       " 'Lightning-Talks.md',\n",
       " 'Projects-and-staffing.org',\n",
       " 'Wellbeing-and-EDI.md',\n",
       " 'REG-Turing-Page-&-Blog.md',\n",
       " 'Shared-REG-Calendar.md',\n",
       " 'Regular-events.md',\n",
       " 'Data-science:-A-syllabus.md',\n",
       " \"Individuals'-username-accounts.md\",\n",
       " 'Timesheet-Codes.md',\n",
       " 'Buddy-System.md',\n",
       " 'Printing.md',\n",
       " 'The-New-Recharge-Reporting-Process-(May-2022).md',\n",
       " 'Annual-appraisals.md',\n",
       " 'Criteria-for-project-appraisal.md',\n",
       " 'Salary-bands-for-all-REG-Roles.md',\n",
       " 'REG-line-management.md',\n",
       " 'Leavers:-Start-here.md',\n",
       " 'Organising-events.md',\n",
       " 'TopDesk-requests.md',\n",
       " 'Reclaiming-out-of-pocket-expenses.md',\n",
       " 'Annual-pay-increases.md',\n",
       " 'New-Joiners:-Start-here.md',\n",
       " 'Home.md',\n",
       " 'Project-tracking.md',\n",
       " 'Programme-contacts-table-and-PMU-staff-chart.md',\n",
       " 'Hut23-group-emails.md',\n",
       " 'Managing-the-project-process.md',\n",
       " 'Team-outputs.md',\n",
       " 'Probation-Review.md',\n",
       " 'Useful-Links-for-REG.md',\n",
       " 'Equipment.md',\n",
       " 'Open-Access-Journal-Articles.md',\n",
       " 'REG-specific-Finance-codes.md',\n",
       " 'Equipment-Queries.md',\n",
       " 'The-REGistry.md',\n",
       " 'REG-student-drop-in-sessions.md',\n",
       " 'Booking-Rooms.md',\n",
       " 'Lightning-Talks:-History-of-Talks.md',\n",
       " 'Knowledge-Sharing.md',\n",
       " 'Team-reporting-structure.md',\n",
       " 'Software-Development-Best-Practice.md',\n",
       " 'Service-areas.md',\n",
       " 'Project-start-up-guidance.md',\n",
       " 'Knowledge-management.md',\n",
       " 'REG-budget-and-project-codes.md',\n",
       " \"Individuals'-social-media-accounts.md\",\n",
       " 'Project-shut-down-guidance.md',\n",
       " 'Moving-to-a-new-computer.md',\n",
       " 'Azure.md']"
      ]
     },
     "execution_count": 7,
     "metadata": {},
     "output_type": "execute_result"
    }
   ],
   "source": [
    "import os\n",
    "\n",
    "files = os.listdir('../data/wiki-raw')\n",
    "files"
   ]
  },
  {
   "cell_type": "code",
   "execution_count": 13,
   "metadata": {},
   "outputs": [],
   "source": [
    "# Read in the data from files listed in the variable files\n",
    "# and store them in a data frame where first column is the title and the second column is the content of the document\n",
    "\n",
    "import pandas as pd\n",
    "\n",
    "df = pd.DataFrame(columns=['title', 'content'])\n",
    "\n",
    "for file in files:\n",
    "    with open('../data/wiki-raw/' + file, 'r') as f:\n",
    "        content = f.read()\n",
    "        df = pd.concat([df, pd.DataFrame([[file, content]], columns=['title', 'content'])])\n",
    "\n",
    "df.head()\n",
    "\n",
    "# Save the data frame as a csv file\n",
    "# into data/data-wiki.csv\n",
    "\n",
    "df.to_csv('../data/data-wiki.csv', index=False)\n"
   ]
  }
 ],
 "metadata": {
  "kernelspec": {
   "display_name": "Python 3",
   "language": "python",
   "name": "python3"
  },
  "language_info": {
   "codemirror_mode": {
    "name": "ipython",
    "version": 3
   },
   "file_extension": ".py",
   "mimetype": "text/x-python",
   "name": "python",
   "nbconvert_exporter": "python",
   "pygments_lexer": "ipython3",
   "version": "3.11.2"
  },
  "orig_nbformat": 4
 },
 "nbformat": 4,
 "nbformat_minor": 2
}
