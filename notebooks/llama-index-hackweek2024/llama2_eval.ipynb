{
 "cells": [
  {
   "cell_type": "markdown",
   "metadata": {},
   "source": [
    "# Questions and Answers using Llama 2\n",
    "\n",
    "Model: Llama 2 7b-chat\n",
    "\n",
    "Data: Handbook test data set"
   ]
  },
  {
   "cell_type": "code",
   "execution_count": 6,
   "metadata": {},
   "outputs": [],
   "source": [
    "from reginald.models.setup_llm import setup_llm\n",
    "\n",
    "from reginald.models.models.llama_index import (\n",
    "    setup_settings,\n",
    "    LlamaIndexLlamaCPP,\n",
    "    set_global_tokenizer,\n",
    "    compute_default_chunk_size,\n",
    ")\n"
   ]
  },
  {
   "cell_type": "code",
   "execution_count": 7,
   "metadata": {},
   "outputs": [],
   "source": [
    "from llama_index.core.evaluation import DatasetGenerator, RelevancyEvaluator\n",
    "from llama_index.core import SimpleDirectoryReader, VectorStoreIndex, Response\n",
    "from llama_index.llms.openai import OpenAI\n",
    "from llama_index.llms.ollama import Ollama\n",
    "\n",
    "from llama_index.core import (\n",
    "    StorageContext,\n",
    "    load_index_from_storage,\n",
    ")\n",
    "\n",
    "from transformers import AutoTokenizer\n",
    "import nest_asyncio\n",
    "\n",
    "nest_asyncio.apply()"
   ]
  },
  {
   "cell_type": "code",
   "execution_count": 8,
   "metadata": {},
   "outputs": [],
   "source": [
    "# Use ollama\n",
    "ollama_llm = Ollama(model=\"llama2:7b-chat\", request_timeout=60.0)"
   ]
  },
  {
   "cell_type": "code",
   "execution_count": 9,
   "metadata": {},
   "outputs": [],
   "source": [
    "chunk_size = compute_default_chunk_size(\n",
    "    max_input_size=4096, k=3\n",
    ")  # calculate chunk size"
   ]
  },
  {
   "cell_type": "code",
   "execution_count": 10,
   "metadata": {},
   "outputs": [],
   "source": [
    "tokenizer = AutoTokenizer.from_pretrained(\n",
    "    \"meta-llama/Llama-2-7b-chat-hf\"\n",
    ").encode  # load tokenizer\n",
    "set_global_tokenizer(tokenizer)"
   ]
  },
  {
   "cell_type": "code",
   "execution_count": 11,
   "metadata": {},
   "outputs": [
    {
     "data": {
      "application/vnd.jupyter.widget-view+json": {
       "model_id": "e23df7cb52d24c81bb4530e0d77e932f",
       "version_major": 2,
       "version_minor": 0
      },
      "text/plain": [
       "modules.json:   0%|          | 0.00/349 [00:00<?, ?B/s]"
      ]
     },
     "metadata": {},
     "output_type": "display_data"
    },
    {
     "data": {
      "application/vnd.jupyter.widget-view+json": {
       "model_id": "a1c06cad3501480b8a5fd12cb58fbb3a",
       "version_major": 2,
       "version_minor": 0
      },
      "text/plain": [
       "config_sentence_transformers.json:   0%|          | 0.00/116 [00:00<?, ?B/s]"
      ]
     },
     "metadata": {},
     "output_type": "display_data"
    },
    {
     "data": {
      "application/vnd.jupyter.widget-view+json": {
       "model_id": "3bc5d81e7d9942209fed97447becec67",
       "version_major": 2,
       "version_minor": 0
      },
      "text/plain": [
       "README.md:   0%|          | 0.00/10.6k [00:00<?, ?B/s]"
      ]
     },
     "metadata": {},
     "output_type": "display_data"
    },
    {
     "data": {
      "application/vnd.jupyter.widget-view+json": {
       "model_id": "e1140d72716148d7824084bb6337d83b",
       "version_major": 2,
       "version_minor": 0
      },
      "text/plain": [
       "sentence_bert_config.json:   0%|          | 0.00/53.0 [00:00<?, ?B/s]"
      ]
     },
     "metadata": {},
     "output_type": "display_data"
    },
    {
     "data": {
      "application/vnd.jupyter.widget-view+json": {
       "model_id": "706cb0b46111479a8586d519eee7bd71",
       "version_major": 2,
       "version_minor": 0
      },
      "text/plain": [
       "config.json:   0%|          | 0.00/571 [00:00<?, ?B/s]"
      ]
     },
     "metadata": {},
     "output_type": "display_data"
    },
    {
     "data": {
      "application/vnd.jupyter.widget-view+json": {
       "model_id": "9fd83b12309646838bce969d1a1f3597",
       "version_major": 2,
       "version_minor": 0
      },
      "text/plain": [
       "model.safetensors:   0%|          | 0.00/438M [00:00<?, ?B/s]"
      ]
     },
     "metadata": {},
     "output_type": "display_data"
    },
    {
     "data": {
      "application/vnd.jupyter.widget-view+json": {
       "model_id": "8882e5f457a540698ffeae2be7d6ec7a",
       "version_major": 2,
       "version_minor": 0
      },
      "text/plain": [
       "tokenizer_config.json:   0%|          | 0.00/363 [00:00<?, ?B/s]"
      ]
     },
     "metadata": {},
     "output_type": "display_data"
    },
    {
     "data": {
      "application/vnd.jupyter.widget-view+json": {
       "model_id": "acdb45d47e524f52bd6e418278b211f5",
       "version_major": 2,
       "version_minor": 0
      },
      "text/plain": [
       "vocab.txt:   0%|          | 0.00/232k [00:00<?, ?B/s]"
      ]
     },
     "metadata": {},
     "output_type": "display_data"
    },
    {
     "data": {
      "application/vnd.jupyter.widget-view+json": {
       "model_id": "729131f4198a46f1a50abc166b8866ad",
       "version_major": 2,
       "version_minor": 0
      },
      "text/plain": [
       "tokenizer.json:   0%|          | 0.00/466k [00:00<?, ?B/s]"
      ]
     },
     "metadata": {},
     "output_type": "display_data"
    },
    {
     "data": {
      "application/vnd.jupyter.widget-view+json": {
       "model_id": "28e4dd59355643008d7b39dbb9844b28",
       "version_major": 2,
       "version_minor": 0
      },
      "text/plain": [
       "special_tokens_map.json:   0%|          | 0.00/239 [00:00<?, ?B/s]"
      ]
     },
     "metadata": {},
     "output_type": "display_data"
    },
    {
     "data": {
      "application/vnd.jupyter.widget-view+json": {
       "model_id": "78c6951ca9834224a31c90888a9a9863",
       "version_major": 2,
       "version_minor": 0
      },
      "text/plain": [
       "1_Pooling/config.json:   0%|          | 0.00/190 [00:00<?, ?B/s]"
      ]
     },
     "metadata": {},
     "output_type": "display_data"
    }
   ],
   "source": [
    "settings = setup_settings(\n",
    "    llm=ollama_llm,\n",
    "    max_input_size=4096,\n",
    "    num_output=512,\n",
    "    chunk_overlap_ratio=0.1,\n",
    "    chunk_size=chunk_size,\n",
    "    k=3,\n",
    "    tokenizer=tokenizer,\n",
    ")  # these are settings for the storage context"
   ]
  },
  {
   "cell_type": "markdown",
   "metadata": {},
   "source": [
    "## Load in the Data"
   ]
  },
  {
   "cell_type": "code",
   "execution_count": 12,
   "metadata": {},
   "outputs": [],
   "source": [
    "# To load in the handbook\n",
    "\n",
    "storage_context = StorageContext.from_defaults(\n",
    "    persist_dir=\"../../data/llama_index_indices/handbook/\"\n",
    ")\n",
    "\n",
    "vector_index = load_index_from_storage(\n",
    "    storage_context=storage_context,\n",
    "    settings=settings,\n",
    ")  # load the data index from storage"
   ]
  },
  {
   "cell_type": "code",
   "execution_count": 13,
   "metadata": {},
   "outputs": [],
   "source": [
    "# To load in the example Paul Graham data\n",
    "# reader = SimpleDirectoryReader(\"./data/paul_graham/\")\n",
    "# documents = reader.load_data()\n",
    "# vector_index = VectorStoreIndex.from_documents(documents)"
   ]
  },
  {
   "cell_type": "code",
   "execution_count": 14,
   "metadata": {},
   "outputs": [
    {
     "data": {
      "application/vnd.jupyter.widget-view+json": {
       "model_id": "727be2b05d7446ee8b360bf90eded017",
       "version_major": 2,
       "version_minor": 0
      },
      "text/plain": [
       "Parsing nodes:   0%|          | 0/39 [00:00<?, ?it/s]"
      ]
     },
     "metadata": {},
     "output_type": "display_data"
    },
    {
     "name": "stderr",
     "output_type": "stream",
     "text": [
      "/Users/kgoldmann/Documents/Projects/reginald/.venv/lib/python3.11/site-packages/llama_index/core/evaluation/dataset_generation.py:213: DeprecationWarning: Call to deprecated class DatasetGenerator. (Deprecated in favor of `RagDatasetGenerator` which should be used instead.)\n",
      "  return cls(\n"
     ]
    }
   ],
   "source": [
    "dataset_generator = DatasetGenerator.from_documents(\n",
    "    vector_index.docstore.docs.values(),\n",
    "    num_questions_per_chunk=1,\n",
    "    show_progress=True,\n",
    "    llm=ollama_llm\n",
    ")"
   ]
  },
  {
   "cell_type": "markdown",
   "metadata": {},
   "source": [
    "## Generate Questions"
   ]
  },
  {
   "cell_type": "code",
   "execution_count": 15,
   "metadata": {},
   "outputs": [
    {
     "name": "stderr",
     "output_type": "stream",
     "text": [
      "100%|██████████| 5/5 [00:37<00:00,  7.55s/it]\n",
      "/Users/kgoldmann/Documents/Projects/reginald/.venv/lib/python3.11/site-packages/llama_index/core/evaluation/dataset_generation.py:310: DeprecationWarning: Call to deprecated class QueryResponseDataset. (Deprecated in favor of `LabelledRagDataset` which should be used instead.)\n",
      "  return QueryResponseDataset(queries=queries, responses=responses_dict)\n"
     ]
    }
   ],
   "source": [
    "eval_questions = dataset_generator.generate_questions_from_nodes(\n",
    "    5\n",
    ")  # generate questions from the documents"
   ]
  },
  {
   "cell_type": "code",
   "execution_count": 16,
   "metadata": {},
   "outputs": [
    {
     "data": {
      "text/plain": [
       "['Of course! Here are 5 questions based on the provided context information:',\n",
       " 'What is the purpose of the \"Contributing\" section in the REG Handbook?',\n",
       " 'Who is the intended audience for the guide in the \"Contributing\" section?',\n",
       " 'How does the guide aim to make contributing to the handbook user-friendly?',\n",
       " 'What is the main focus of the guide in terms of providing links for further reading?']"
      ]
     },
     "execution_count": 16,
     "metadata": {},
     "output_type": "execute_result"
    }
   ],
   "source": [
    "eval_questions"
   ]
  },
  {
   "cell_type": "markdown",
   "metadata": {},
   "source": [
    "## Answer the Questions"
   ]
  },
  {
   "cell_type": "code",
   "execution_count": 17,
   "metadata": {},
   "outputs": [],
   "source": [
    "evaluator_gpt4 = RelevancyEvaluator(llm=ollama_llm)"
   ]
  },
  {
   "cell_type": "code",
   "execution_count": 18,
   "metadata": {},
   "outputs": [],
   "source": [
    "# for every value in eval_questions, get the response from the llm\n",
    "all_dfs = []\n",
    "\n",
    "for i in range(len(eval_questions)):\n",
    "    query_engine = vector_index.as_query_engine()\n",
    "    response_vector = query_engine.query(eval_questions[i])\n",
    "    eval_result = evaluator_gpt4.evaluate_response(\n",
    "        query=eval_questions[i], response=response_vector\n",
    "    )\n",
    "\n",
    "    # append to the all_dfs list\n",
    "    all_dfs.append({'eval_result': eval_result,\n",
    "                    'question': eval_questions[i],\n",
    "                    'response': response_vector})\n"
   ]
  },
  {
   "cell_type": "code",
   "execution_count": 21,
   "metadata": {},
   "outputs": [],
   "source": [
    "# extract the different elements\n",
    "questions = [x['question'] for x in all_dfs]\n",
    "response = [x['response'] for x in all_dfs]\n",
    "sources = [x['response'].source_nodes for x in all_dfs]\n",
    "#sources = [x[0].node.get_content() for x in sources]\n",
    "\n",
    "# for the each sources, get the content as one string deliminated by ;\n",
    "sources = [\";\".join([x.get_content() for x in y]) for y in sources]\n",
    "\n",
    "match = [x['eval_result'].passing for x in all_dfs] # does the response match the source"
   ]
  },
  {
   "cell_type": "code",
   "execution_count": 25,
   "metadata": {},
   "outputs": [],
   "source": [
    "# extract the questions\n",
    "combined_df = pd.DataFrame({'questions': questions, 'response': response, 'sources': sources, 'match': match})\n",
    "combined_df.to_csv(\"data/handbook_QandA.csv\", index=False)"
   ]
  },
  {
   "cell_type": "code",
   "execution_count": 26,
   "metadata": {},
   "outputs": [
    {
     "data": {
      "text/html": [
       "<style type=\"text/css\">\n",
       "#T_f9c30_row0_col0, #T_f9c30_row0_col1, #T_f9c30_row0_col2, #T_f9c30_row0_col3, #T_f9c30_row1_col0, #T_f9c30_row1_col1, #T_f9c30_row1_col2, #T_f9c30_row1_col3, #T_f9c30_row2_col0, #T_f9c30_row2_col1, #T_f9c30_row2_col2, #T_f9c30_row2_col3, #T_f9c30_row3_col0, #T_f9c30_row3_col1, #T_f9c30_row3_col2, #T_f9c30_row3_col3, #T_f9c30_row4_col0, #T_f9c30_row4_col1, #T_f9c30_row4_col2, #T_f9c30_row4_col3 {\n",
       "  inline-size: 600px;\n",
       "  overflow-wrap: break-word;\n",
       "}\n",
       "</style>\n",
       "<table id=\"T_f9c30\">\n",
       "  <thead>\n",
       "    <tr>\n",
       "      <th class=\"blank level0\" >&nbsp;</th>\n",
       "      <th id=\"T_f9c30_level0_col0\" class=\"col_heading level0 col0\" >questions</th>\n",
       "      <th id=\"T_f9c30_level0_col1\" class=\"col_heading level0 col1\" >response</th>\n",
       "      <th id=\"T_f9c30_level0_col2\" class=\"col_heading level0 col2\" >sources</th>\n",
       "      <th id=\"T_f9c30_level0_col3\" class=\"col_heading level0 col3\" >match</th>\n",
       "    </tr>\n",
       "  </thead>\n",
       "  <tbody>\n",
       "    <tr>\n",
       "      <th id=\"T_f9c30_level0_row0\" class=\"row_heading level0 row0\" >0</th>\n",
       "      <td id=\"T_f9c30_row0_col0\" class=\"data row0 col0\" >Of course! Here are 5 questions based on the provided context information:</td>\n",
       "      <td id=\"T_f9c30_row0_col1\" class=\"data row0 col1\" >Of course, I'm here to help! Based on the provided context information, here are five questions and their answers:\n",
       "\n",
       "1. What is the purpose of creating reading groups within the team?\n",
       "Answer: The purpose of creating reading groups is to learn about a topic, either as part of a project or for general interest. Reading groups may meet weekly to discuss a chapter from a book, paper, or work together on implementing something.\n",
       "2. Where can I find information about current reading groups and their details?\n",
       "Answer: You can find information about current reading groups and their details on the Data Science Skills wiki.\n",
       "3. Are there any other informal groups related to the Turing Institute?\n",
       "Answer: Yes, there are also Turing Interest Groups and many other informal groups around the Turing.\n",
       "4. How does the team work together to implement something?\n",
       "Answer: The team may work together on implementing something through reading groups, where members create reading groups to learn about a topic and discuss it weekly.\n",
       "5. Where can I find material for reading groups?\n",
       "Answer: Material for reading groups is stored in the Data Science Skills repository.</td>\n",
       "      <td id=\"T_f9c30_row0_col2\" class=\"data row0 col2\" >Reading Groups As part of projects or for general interest, members of the team create reading groups to learn about a topic. Reading groups may meet on weekly basis to discuss a chapter from a book, a paper, or to work together on implementing something. A list of current reading groups and information about them can be found on the Data Science Skills wiki . Material for the reading groups is stored in the Data Science Skills repository There are also Turing Interest Groups and many other informal groups around the Turing. ;How We Work </td>\n",
       "      <td id=\"T_f9c30_row0_col3\" class=\"data row0 col3\" >True</td>\n",
       "    </tr>\n",
       "    <tr>\n",
       "      <th id=\"T_f9c30_level0_row1\" class=\"row_heading level0 row1\" >1</th>\n",
       "      <td id=\"T_f9c30_row1_col0\" class=\"data row1 col0\" >What is the purpose of the \"Contributing\" section in the REG Handbook?</td>\n",
       "      <td id=\"T_f9c30_row1_col1\" class=\"data row1 col1\" >The purpose of the \"Contributing\" section in the REG Handbook is to provide a platform for individuals to discuss and share ideas related to the handbook. The section encourages open communication and collaboration, allowing participants to brainstorm, ask questions, and report any issues they encounter. By fostering an environment where people can freely express themselves, the Contributing section helps ensure that the handbook remains a dynamic and evolving resource.</td>\n",
       "      <td id=\"T_f9c30_row1_col2\" class=\"data row1 col2\" >Projects This section describes how we coordinate our project work. It does not go into details of how individual projects are managed, but how REG coordinates its commitments to the range of projects it’s involved in. ;Discussions and Issues Contributing does not only mean adding code or writing pages. Being involved in reporting issues and discussing ideas are important and valuable aspects to contributing. The handbook uses both issues and discussions on GitHub. Discussions The handbook Discussions\n",
       "are the best place for informal talk about the handbook. You should feel welcome to create a discussion on any relevant topic, without the formality of an issue. Good examples of discussions are Any questions Possible bugs (does anyone else have this problem?) Chapter suggestions Looking for collaborators Community support Any other on-topic talk Issues The issue tracker is best used for development work. This is because issues integrate well with GitHub development tools like projects, pull requests, assignments and so on. Each issue should ideally represent a well-defined, self-contained piece of work suitable to become a single pull request. Good examples of issues are Bug reports with technical detail Developed chapter proposals Feature requests (such as new shortcodes) Specific ideas for changes When opening an issue, pick a suitable template (if any) to make the process easier. </td>\n",
       "      <td id=\"T_f9c30_row1_col3\" class=\"data row1 col3\" >True</td>\n",
       "    </tr>\n",
       "    <tr>\n",
       "      <th id=\"T_f9c30_level0_row2\" class=\"row_heading level0 row2\" >2</th>\n",
       "      <td id=\"T_f9c30_row2_col0\" class=\"data row2 col0\" >Who is the intended audience for the guide in the \"Contributing\" section?</td>\n",
       "      <td id=\"T_f9c30_row2_col1\" class=\"data row2 col1\" >Based on the context provided, it appears that the intended audience for the guide in the \"Contributing\" section is members of the team creating the REG Handbook. The guide provides instructions for reporting issues and discussing ideas related to the handbook, which suggests that the target audience is individuals who are actively contributing to the handbook's development and maintenance.</td>\n",
       "      <td id=\"T_f9c30_row2_col2\" class=\"data row2 col2\" >Discussions and Issues Contributing does not only mean adding code or writing pages. Being involved in reporting issues and discussing ideas are important and valuable aspects to contributing. The handbook uses both issues and discussions on GitHub. Discussions The handbook Discussions\n",
       "are the best place for informal talk about the handbook. You should feel welcome to create a discussion on any relevant topic, without the formality of an issue. Good examples of discussions are Any questions Possible bugs (does anyone else have this problem?) Chapter suggestions Looking for collaborators Community support Any other on-topic talk Issues The issue tracker is best used for development work. This is because issues integrate well with GitHub development tools like projects, pull requests, assignments and so on. Each issue should ideally represent a well-defined, self-contained piece of work suitable to become a single pull request. Good examples of issues are Bug reports with technical detail Developed chapter proposals Feature requests (such as new shortcodes) Specific ideas for changes When opening an issue, pick a suitable template (if any) to make the process easier. ;Reading Groups As part of projects or for general interest, members of the team create reading groups to learn about a topic. Reading groups may meet on weekly basis to discuss a chapter from a book, a paper, or to work together on implementing something. A list of current reading groups and information about them can be found on the Data Science Skills wiki . Material for the reading groups is stored in the Data Science Skills repository There are also Turing Interest Groups and many other informal groups around the Turing. </td>\n",
       "      <td id=\"T_f9c30_row2_col3\" class=\"data row2 col3\" >True</td>\n",
       "    </tr>\n",
       "    <tr>\n",
       "      <th id=\"T_f9c30_level0_row3\" class=\"row_heading level0 row3\" >3</th>\n",
       "      <td id=\"T_f9c30_row3_col0\" class=\"data row3 col0\" >How does the guide aim to make contributing to the handbook user-friendly?</td>\n",
       "      <td id=\"T_f9c30_row3_col1\" class=\"data row3 col1\" >The guide aims to make contributing to the handbook user-friendly by providing various ways for users to participate in the project. Here are some ways the guide makes contributing user-friendly:\n",
       "\n",
       "1. Informal talk: The guide encourages users to create discussions on relevant topics without the formality of an issue. This provides a welcoming space for users to ask questions, share ideas, and collaborate with others.\n",
       "2. Local editing: Users can edit pages locally before opening an issue in the GitHub web editor. This allows users to make small changes easily.\n",
       "3. YAML front matter: The guide provides clear instructions on how to format front matter YAML, which is used to define various metadata related to a page. This helps users understand how to properly structure their content.\n",
       "4. Shortcodes: The guide includes a list of useful built-in shortcodes and theme shortcodes that can be included in Markdown content files. These shortcodes make it easier for users to include complex features in their content without having to write raw HTML code.\n",
       "5. Repository links: The guide provides an example of how to create a link to a file or directory in the handbook's repository. This allows users to easily navigate and explore the repository.\n",
       "\n",
       "Overall, the guide makes contributing user-friendly by providing clear instructions, examples, and ways for users to participate in the project.</td>\n",
       "      <td id=\"T_f9c30_row3_col2\" class=\"data row3 col2\" >Discussions and Issues Contributing does not only mean adding code or writing pages. Being involved in reporting issues and discussing ideas are important and valuable aspects to contributing. The handbook uses both issues and discussions on GitHub. Discussions The handbook Discussions\n",
       "are the best place for informal talk about the handbook. You should feel welcome to create a discussion on any relevant topic, without the formality of an issue. Good examples of discussions are Any questions Possible bugs (does anyone else have this problem?) Chapter suggestions Looking for collaborators Community support Any other on-topic talk Issues The issue tracker is best used for development work. This is because issues integrate well with GitHub development tools like projects, pull requests, assignments and so on. Each issue should ideally represent a well-defined, self-contained piece of work suitable to become a single pull request. Good examples of issues are Bug reports with technical detail Developed chapter proposals Feature requests (such as new shortcodes) Specific ideas for changes When opening an issue, pick a suitable template (if any) to make the process easier. ;Editing a Page If you followed the instructions in the Getting Started section to checkout the repository and serve the handbook locally you can edit a page locally. However, as you may have noticed, at the bottom of each page is a link to edit the page in the GitHub web editor if you would prefer. This may be easy for making small changes. Pages Each page is a Markdown file with YAML front matter followed by the page contents in Markdown. Front Matter The front matter is used to define various pieces of metadata related to a page. The front matter appears at the top of a content file. In the handbook we format front matter as YAML, preceded and followed by three hyphens. --- title : \"Example Page\"\n",
       "weight : 1\n",
       "--- The full YAML specification is long and comprehensive. The most important thing to understand here is that the front matter YAML consists of keys and values separated by a hyphen. For example, in the expression weight: 1 , weight is the key with a value of 1 . If you created a page using hugo new then some boilerplate front matter with explanatory comments should already be present. If you are editing an existing page there should already be front matter. Most of the time, the only keys you will need to consider are title and weight . title The title of a page as it appears in the navigation menu weight Determines the order of pages in the navigation menu. Smaller numbers appear first The Hugo documentation details a set of predefined front matter keys . Other valid fields related to the handbook theme are documented in the theme’s README . Content After the front matter is the content section. --- title: \"Example Page\" weight: 1 ---\n",
       "| content section | The content section is formatted in Markdown. Markdown Guide outlines the basic and extended . Not all of the extended Markdown syntax may be implemented by Hugo’s Markdown renderer Shortcodes Shortcodes\n",
       "are templates (which can be parametrised) and included the content section. They can be particularly useful for including more complex features than Markdown’s simple syntax will allow. Using a shortcode is preferable to including raw HTML in a content file. Shortcodes can called in Markdown content files the following way {{% shortcode parameter %}} Some shortcodes may have an opening and closing tag, similar to HTML {{% shortcode %}} content to process {{% /shortcode %}} Hugo Shortcodes Hugo has a set of useful built-in shortcodes . In particular figure gist highlight param ref and relref Theme Shortcodes The theme has a number of shortcodes which may be helpful. In particular hints expand KaTeX tabs Repository Shortcodes Shortcodes can be included in the handbooks repository. For more information see Creating Shortcodes repo_link Create a link to a file or directory in the handbook’s repository. {{% repo_link path=\"README.md\" text=\"README\" %}} path Path to the file or directory relative to the root of the repository text Text of the link (can include Markdown formatting) </td>\n",
       "      <td id=\"T_f9c30_row3_col3\" class=\"data row3 col3\" >True</td>\n",
       "    </tr>\n",
       "    <tr>\n",
       "      <th id=\"T_f9c30_level0_row4\" class=\"row_heading level0 row4\" >4</th>\n",
       "      <td id=\"T_f9c30_row4_col0\" class=\"data row4 col0\" >What is the main focus of the guide in terms of providing links for further reading?</td>\n",
       "      <td id=\"T_f9c30_row4_col1\" class=\"data row4 col1\" >Based on the provided context information, it seems that the main focus of the guide is to provide links for further reading related to the handbook's content. The guide provides information on how to create shortcodes, which are used to include links to files or directories in the handbook's repository. Additionally, the guide mentions that there are built-in shortcodes available in Hugo, as well as theme shortcodes that may be helpful. Overall, the main focus of the guide appears to be on providing resources for readers to explore further and learn more about the topics covered in the handbook.</td>\n",
       "      <td id=\"T_f9c30_row4_col2\" class=\"data row4 col2\" >Discussions and Issues Contributing does not only mean adding code or writing pages. Being involved in reporting issues and discussing ideas are important and valuable aspects to contributing. The handbook uses both issues and discussions on GitHub. Discussions The handbook Discussions\n",
       "are the best place for informal talk about the handbook. You should feel welcome to create a discussion on any relevant topic, without the formality of an issue. Good examples of discussions are Any questions Possible bugs (does anyone else have this problem?) Chapter suggestions Looking for collaborators Community support Any other on-topic talk Issues The issue tracker is best used for development work. This is because issues integrate well with GitHub development tools like projects, pull requests, assignments and so on. Each issue should ideally represent a well-defined, self-contained piece of work suitable to become a single pull request. Good examples of issues are Bug reports with technical detail Developed chapter proposals Feature requests (such as new shortcodes) Specific ideas for changes When opening an issue, pick a suitable template (if any) to make the process easier. ;Editing a Page If you followed the instructions in the Getting Started section to checkout the repository and serve the handbook locally you can edit a page locally. However, as you may have noticed, at the bottom of each page is a link to edit the page in the GitHub web editor if you would prefer. This may be easy for making small changes. Pages Each page is a Markdown file with YAML front matter followed by the page contents in Markdown. Front Matter The front matter is used to define various pieces of metadata related to a page. The front matter appears at the top of a content file. In the handbook we format front matter as YAML, preceded and followed by three hyphens. --- title : \"Example Page\"\n",
       "weight : 1\n",
       "--- The full YAML specification is long and comprehensive. The most important thing to understand here is that the front matter YAML consists of keys and values separated by a hyphen. For example, in the expression weight: 1 , weight is the key with a value of 1 . If you created a page using hugo new then some boilerplate front matter with explanatory comments should already be present. If you are editing an existing page there should already be front matter. Most of the time, the only keys you will need to consider are title and weight . title The title of a page as it appears in the navigation menu weight Determines the order of pages in the navigation menu. Smaller numbers appear first The Hugo documentation details a set of predefined front matter keys . Other valid fields related to the handbook theme are documented in the theme’s README . Content After the front matter is the content section. --- title: \"Example Page\" weight: 1 ---\n",
       "| content section | The content section is formatted in Markdown. Markdown Guide outlines the basic and extended . Not all of the extended Markdown syntax may be implemented by Hugo’s Markdown renderer Shortcodes Shortcodes\n",
       "are templates (which can be parametrised) and included the content section. They can be particularly useful for including more complex features than Markdown’s simple syntax will allow. Using a shortcode is preferable to including raw HTML in a content file. Shortcodes can called in Markdown content files the following way {{% shortcode parameter %}} Some shortcodes may have an opening and closing tag, similar to HTML {{% shortcode %}} content to process {{% /shortcode %}} Hugo Shortcodes Hugo has a set of useful built-in shortcodes . In particular figure gist highlight param ref and relref Theme Shortcodes The theme has a number of shortcodes which may be helpful. In particular hints expand KaTeX tabs Repository Shortcodes Shortcodes can be included in the handbooks repository. For more information see Creating Shortcodes repo_link Create a link to a file or directory in the handbook’s repository. {{% repo_link path=\"README.md\" text=\"README\" %}} path Path to the file or directory relative to the root of the repository text Text of the link (can include Markdown formatting) </td>\n",
       "      <td id=\"T_f9c30_row4_col3\" class=\"data row4 col3\" >True</td>\n",
       "    </tr>\n",
       "  </tbody>\n",
       "</table>\n"
      ],
      "text/plain": [
       "<pandas.io.formats.style.Styler at 0x2c312c290>"
      ]
     },
     "metadata": {},
     "output_type": "display_data"
    }
   ],
   "source": [
    "combined_df_out = combined_df.style.set_properties(\n",
    "        **{\n",
    "            \"inline-size\": \"600px\",\n",
    "            \"overflow-wrap\": \"break-word\",\n",
    "        }\n",
    "    )\n",
    "display(combined_df_out)"
   ]
  }
 ],
 "metadata": {
  "kernelspec": {
   "display_name": "llama-index",
   "language": "python",
   "name": "python3"
  },
  "language_info": {
   "codemirror_mode": {
    "name": "ipython",
    "version": 3
   },
   "file_extension": ".py",
   "mimetype": "text/x-python",
   "name": "python",
   "nbconvert_exporter": "python",
   "pygments_lexer": "ipython3",
   "version": "3.11.6"
  }
 },
 "nbformat": 4,
 "nbformat_minor": 2
}
