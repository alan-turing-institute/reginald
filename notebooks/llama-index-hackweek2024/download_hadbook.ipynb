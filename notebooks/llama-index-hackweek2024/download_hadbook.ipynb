{
 "cells": [
  {
   "cell_type": "code",
   "execution_count": 4,
   "metadata": {},
   "outputs": [],
   "source": [
    "from reginald.models.models.llama_index import DataIndexCreator\n",
    "\n",
    "import os\n",
    "from reginald.utils import get_env_var\n",
    "\n",
    "from llama_index.readers.github import (\n",
    "    GithubClient,\n",
    "    GitHubIssuesClient,\n",
    "    GitHubRepositoryIssuesReader,\n",
    "    GithubRepositoryReader,\n",
    ")"
   ]
  },
  {
   "cell_type": "code",
   "execution_count": 5,
   "metadata": {},
   "outputs": [],
   "source": [
    "gh_token = get_env_var(\"GITHUB_TOKEN\")"
   ]
  },
  {
   "cell_type": "code",
   "execution_count": 6,
   "metadata": {},
   "outputs": [],
   "source": [
    "owner = \"alan-turing-institute\"\n",
    "repo = \"REG-handbook\"\n",
    "\n",
    "handbook_loader = GithubRepositoryReader(\n",
    "    GithubClient(gh_token, fail_on_http_error=False),\n",
    "    owner=owner,\n",
    "    repo=repo,\n",
    "    verbose=False,\n",
    "    concurrent_requests=1,\n",
    "    timeout=60,\n",
    "    retries=3,\n",
    "    filter_file_extensions=(\n",
    "        [\".md\"],\n",
    "        GithubRepositoryReader.FilterType.INCLUDE,\n",
    "    ),\n",
    "    filter_directories=(\n",
    "        [\"content\"],\n",
    "        GithubRepositoryReader.FilterType.INCLUDE,\n",
    "    ),\n",
    ")"
   ]
  },
  {
   "cell_type": "code",
   "execution_count": 19,
   "metadata": {},
   "outputs": [],
   "source": [
    "handbook_data = handbook_loader.load_data(branch=\"main\")"
   ]
  },
  {
   "cell_type": "markdown",
   "metadata": {},
   "source": [
    "## Extract text and save"
   ]
  },
  {
   "cell_type": "code",
   "execution_count": 22,
   "metadata": {},
   "outputs": [
    {
     "data": {
      "text/plain": [
       "\"---\\ntitle: Introduction\\ntype: docs\\n---\\n\\n# Welcome to the Research Engineering Group Handbook\\n\\n## What is this?\\n\\nThis Handbook is written by and for [The Alan Turing Institute's](https://www.turing.ac.uk/) Research Engineering Group (REG).\\nIt is our attempt to describe both how we do work and how we aspire to.\\nIt is inspired by other open, community-driven books such as [The GitLab Team Handbook](https://about.gitlab.com/handbook/) and [The Turing Way](https://the-turing-way.netlify.app/collaboration/remote-collab.html).\\n\\n## Who is the audience?\\n\\nAnyone!\\nMost commonly it is used by members of REG in their day-to-day work.\\nIt also aims to be a helpful introduction to REG for anyone who might work with us, either as collaborators or — when the opportunity arises — as [future colleagues](https://www.turing.ac.uk/opportunities-turing/jobs).\\n\\nIt is open to all, in the hope others will find it useful too.\\n\\n## Who are REG anyway?\\n\\nFor an introduction to REG and what we do see our page on the [Turing website](https://www.turing.ac.uk/research-engineering).\\n\""
      ]
     },
     "execution_count": 22,
     "metadata": {},
     "output_type": "execute_result"
    }
   ],
   "source": [
    "handbook_data[0]"
   ]
  },
  {
   "cell_type": "code",
   "execution_count": 21,
   "metadata": {},
   "outputs": [
    {
     "data": {
      "text/plain": [
       "{'id_': '93c225056acbb5484fe7994c647f755f93adf958',\n",
       " 'embedding': None,\n",
       " 'metadata': {'file_path': 'content/_index.md',\n",
       "  'file_name': '_index.md',\n",
       "  'url': 'https://github.com/alan-turing-institute/REG-handbook/blob/main/content/_index.md'},\n",
       " 'excluded_embed_metadata_keys': [],\n",
       " 'excluded_llm_metadata_keys': [],\n",
       " 'relationships': {},\n",
       " 'text': \"---\\ntitle: Introduction\\ntype: docs\\n---\\n\\n# Welcome to the Research Engineering Group Handbook\\n\\n## What is this?\\n\\nThis Handbook is written by and for [The Alan Turing Institute's](https://www.turing.ac.uk/) Research Engineering Group (REG).\\nIt is our attempt to describe both how we do work and how we aspire to.\\nIt is inspired by other open, community-driven books such as [The GitLab Team Handbook](https://about.gitlab.com/handbook/) and [The Turing Way](https://the-turing-way.netlify.app/collaboration/remote-collab.html).\\n\\n## Who is the audience?\\n\\nAnyone!\\nMost commonly it is used by members of REG in their day-to-day work.\\nIt also aims to be a helpful introduction to REG for anyone who might work with us, either as collaborators or — when the opportunity arises — as [future colleagues](https://www.turing.ac.uk/opportunities-turing/jobs).\\n\\nIt is open to all, in the hope others will find it useful too.\\n\\n## Who are REG anyway?\\n\\nFor an introduction to REG and what we do see our page on the [Turing website](https://www.turing.ac.uk/research-engineering).\\n\",\n",
       " 'start_char_idx': None,\n",
       " 'end_char_idx': None,\n",
       " 'text_template': '{metadata_str}\\n\\n{content}',\n",
       " 'metadata_template': '{key}: {value}',\n",
       " 'metadata_seperator': '\\n'}"
      ]
     },
     "execution_count": 21,
     "metadata": {},
     "output_type": "execute_result"
    }
   ],
   "source": [
    "vars(handbook[0])"
   ]
  },
  {
   "cell_type": "code",
   "execution_count": 10,
   "metadata": {},
   "outputs": [
    {
     "ename": "TypeError",
     "evalue": "list.extend() takes exactly one argument (0 given)",
     "output_type": "error",
     "traceback": [
      "\u001b[0;31m---------------------------------------------------------------------------\u001b[0m",
      "\u001b[0;31mTypeError\u001b[0m                                 Traceback (most recent call last)",
      "Cell \u001b[0;32mIn[10], line 1\u001b[0m\n\u001b[0;32m----> 1\u001b[0m \u001b[38;5;28;43mlist\u001b[39;49m\u001b[38;5;241;43m.\u001b[39;49m\u001b[43mextend\u001b[49m\u001b[43m(\u001b[49m\u001b[43mhandbook_loader\u001b[49m\u001b[38;5;241;43m.\u001b[39;49m\u001b[43mload_data\u001b[49m\u001b[43m(\u001b[49m\u001b[43mbranch\u001b[49m\u001b[38;5;241;43m=\u001b[39;49m\u001b[38;5;124;43m\"\u001b[39;49m\u001b[38;5;124;43mmain\u001b[39;49m\u001b[38;5;124;43m\"\u001b[39;49m\u001b[43m)\u001b[49m\u001b[43m)\u001b[49m\n",
      "\u001b[0;31mTypeError\u001b[0m: list.extend() takes exactly one argument (0 given)"
     ]
    }
   ],
   "source": [
    "list.extend(handbook_loader.load_data(branch=\"main\"))"
   ]
  }
 ],
 "metadata": {
  "kernelspec": {
   "display_name": "reginald",
   "language": "python",
   "name": "python3"
  },
  "language_info": {
   "codemirror_mode": {
    "name": "ipython",
    "version": 3
   },
   "file_extension": ".py",
   "mimetype": "text/x-python",
   "name": "python",
   "nbconvert_exporter": "python",
   "pygments_lexer": "ipython3",
   "version": "3.11.5"
  }
 },
 "nbformat": 4,
 "nbformat_minor": 2
}
