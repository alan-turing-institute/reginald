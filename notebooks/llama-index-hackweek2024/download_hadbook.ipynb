{
 "cells": [
  {
   "cell_type": "code",
   "execution_count": 23,
   "metadata": {},
   "outputs": [],
   "source": [
    "from reginald.models.models.llama_index import DataIndexCreator\n",
    "\n",
    "import os\n",
    "from reginald.utils import get_env_var\n",
    "\n",
    "from llama_index.readers.github import (\n",
    "    GithubClient,\n",
    "    GitHubIssuesClient,\n",
    "    GitHubRepositoryIssuesReader,\n",
    "    GithubRepositoryReader,\n",
    ")"
   ]
  },
  {
   "cell_type": "code",
   "execution_count": 24,
   "metadata": {},
   "outputs": [],
   "source": [
    "gh_token = get_env_var(\"GITHUB_TOKEN\")"
   ]
  },
  {
   "cell_type": "code",
   "execution_count": 25,
   "metadata": {},
   "outputs": [],
   "source": [
    "owner = \"alan-turing-institute\"\n",
    "repo = \"REG-handbook\"\n",
    "\n",
    "handbook_loader = GithubRepositoryReader(\n",
    "    GithubClient(gh_token, fail_on_http_error=False),\n",
    "    owner=owner,\n",
    "    repo=repo,\n",
    "    verbose=False,\n",
    "    concurrent_requests=1,\n",
    "    timeout=60,\n",
    "    retries=3,\n",
    "    filter_file_extensions=(\n",
    "        [\".md\"],\n",
    "        GithubRepositoryReader.FilterType.INCLUDE,\n",
    "    ),\n",
    "    filter_directories=(\n",
    "        [\"content\"],\n",
    "        GithubRepositoryReader.FilterType.INCLUDE,\n",
    "    ),\n",
    ")"
   ]
  },
  {
   "cell_type": "code",
   "execution_count": 26,
   "metadata": {},
   "outputs": [],
   "source": [
    "handbook_data = handbook_loader.load_data(branch=\"main\")"
   ]
  },
  {
   "cell_type": "markdown",
   "metadata": {},
   "source": [
    "## Extract text and save"
   ]
  },
  {
   "cell_type": "code",
   "execution_count": 27,
   "metadata": {},
   "outputs": [
    {
     "data": {
      "text/plain": [
       "Document(id_='93c225056acbb5484fe7994c647f755f93adf958', embedding=None, metadata={'file_path': 'content/_index.md', 'file_name': '_index.md', 'url': 'https://github.com/alan-turing-institute/REG-handbook/blob/main/content/_index.md'}, excluded_embed_metadata_keys=[], excluded_llm_metadata_keys=[], relationships={}, text=\"---\\ntitle: Introduction\\ntype: docs\\n---\\n\\n# Welcome to the Research Engineering Group Handbook\\n\\n## What is this?\\n\\nThis Handbook is written by and for [The Alan Turing Institute's](https://www.turing.ac.uk/) Research Engineering Group (REG).\\nIt is our attempt to describe both how we do work and how we aspire to.\\nIt is inspired by other open, community-driven books such as [The GitLab Team Handbook](https://about.gitlab.com/handbook/) and [The Turing Way](https://the-turing-way.netlify.app/collaboration/remote-collab.html).\\n\\n## Who is the audience?\\n\\nAnyone!\\nMost commonly it is used by members of REG in their day-to-day work.\\nIt also aims to be a helpful introduction to REG for anyone who might work with us, either as collaborators or — when the opportunity arises — as [future colleagues](https://www.turing.ac.uk/opportunities-turing/jobs).\\n\\nIt is open to all, in the hope others will find it useful too.\\n\\n## Who are REG anyway?\\n\\nFor an introduction to REG and what we do see our page on the [Turing website](https://www.turing.ac.uk/research-engineering).\\n\", start_char_idx=None, end_char_idx=None, text_template='{metadata_str}\\n\\n{content}', metadata_template='{key}: {value}', metadata_seperator='\\n')"
      ]
     },
     "execution_count": 27,
     "metadata": {},
     "output_type": "execute_result"
    }
   ],
   "source": [
    "handbook_data[0]"
   ]
  },
  {
   "cell_type": "code",
   "execution_count": 28,
   "metadata": {},
   "outputs": [
    {
     "data": {
      "text/plain": [
       "{'id_': '93c225056acbb5484fe7994c647f755f93adf958',\n",
       " 'embedding': None,\n",
       " 'metadata': {'file_path': 'content/_index.md',\n",
       "  'file_name': '_index.md',\n",
       "  'url': 'https://github.com/alan-turing-institute/REG-handbook/blob/main/content/_index.md'},\n",
       " 'excluded_embed_metadata_keys': [],\n",
       " 'excluded_llm_metadata_keys': [],\n",
       " 'relationships': {},\n",
       " 'text': \"---\\ntitle: Introduction\\ntype: docs\\n---\\n\\n# Welcome to the Research Engineering Group Handbook\\n\\n## What is this?\\n\\nThis Handbook is written by and for [The Alan Turing Institute's](https://www.turing.ac.uk/) Research Engineering Group (REG).\\nIt is our attempt to describe both how we do work and how we aspire to.\\nIt is inspired by other open, community-driven books such as [The GitLab Team Handbook](https://about.gitlab.com/handbook/) and [The Turing Way](https://the-turing-way.netlify.app/collaboration/remote-collab.html).\\n\\n## Who is the audience?\\n\\nAnyone!\\nMost commonly it is used by members of REG in their day-to-day work.\\nIt also aims to be a helpful introduction to REG for anyone who might work with us, either as collaborators or — when the opportunity arises — as [future colleagues](https://www.turing.ac.uk/opportunities-turing/jobs).\\n\\nIt is open to all, in the hope others will find it useful too.\\n\\n## Who are REG anyway?\\n\\nFor an introduction to REG and what we do see our page on the [Turing website](https://www.turing.ac.uk/research-engineering).\\n\",\n",
       " 'start_char_idx': None,\n",
       " 'end_char_idx': None,\n",
       " 'text_template': '{metadata_str}\\n\\n{content}',\n",
       " 'metadata_template': '{key}: {value}',\n",
       " 'metadata_seperator': '\\n'}"
      ]
     },
     "execution_count": 28,
     "metadata": {},
     "output_type": "execute_result"
    }
   ],
   "source": [
    "vars(handbook_data[0])"
   ]
  },
  {
   "cell_type": "code",
   "execution_count": null,
   "metadata": {},
   "outputs": [],
   "source": [
    "list.extend(handbook_loader.load_data(branch=\"main\"))"
   ]
  }
 ],
 "metadata": {
  "kernelspec": {
   "display_name": "reginald",
   "language": "python",
   "name": "python3"
  },
  "language_info": {
   "codemirror_mode": {
    "name": "ipython",
    "version": 3
   },
   "file_extension": ".py",
   "mimetype": "text/x-python",
   "name": "python",
   "nbconvert_exporter": "python",
   "pygments_lexer": "ipython3",
   "version": "3.11.5"
  }
 },
 "nbformat": 4,
 "nbformat_minor": 2
}
